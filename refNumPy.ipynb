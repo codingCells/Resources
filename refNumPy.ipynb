{
 "cells": [
  {
   "cell_type": "markdown",
   "id": "7bf77508",
   "metadata": {},
   "source": [
    "# Reference Material for Working with NumPy\n",
    "\n",
    "***\n",
    "- [Initializing](#Initializing)\n",
    "- [Properties](#Properties)\n",
    "- [Basic Functions](#Basic-Functions)\n",
    "- [Mathmatics](#Mathmatics)\n",
    "- [Iterate](#Iterate)\n",
    "- [Reshaping](#Reshaping)\n",
    "- [Index With Boolean](#Index-With-Boolean)\n",
    "- [Special Considerations](#Special-Considerations)"
   ]
  },
  {
   "cell_type": "code",
   "execution_count": 1,
   "id": "06bcf66e",
   "metadata": {},
   "outputs": [],
   "source": [
    "import numpy as np"
   ]
  },
  {
   "cell_type": "code",
   "execution_count": 3,
   "id": "c6b433b8",
   "metadata": {},
   "outputs": [
    {
     "data": {
      "text/plain": [
       "array([[1.+0.j, 2.+0.j],\n",
       "       [3.+0.j, 4.+0.j],\n",
       "       [5.+0.j, 6.+0.j]])"
      ]
     },
     "execution_count": 3,
     "metadata": {},
     "output_type": "execute_result"
    }
   ],
   "source": [
    "#Confusion\n",
    "a = np.array([[1,2],[3,4],[5,6]], dtype = complex)\n",
    "print(a)\n",
    "a.dot(b)  #matrix product"
   ]
  },
  {
   "cell_type": "markdown",
   "id": "cfbbee9e",
   "metadata": {},
   "source": [
    "# Initalizing"
   ]
  },
  {
   "cell_type": "code",
   "execution_count": 27,
   "id": "9cda529e",
   "metadata": {},
   "outputs": [],
   "source": [
    "npArray = np.array([5,6,9])                              #1D Array\n",
    "np2Array = np.array([[1,2,3],[4,5,6],[7,8,9]])           #2D Array\n",
    "npfArray = np.array([2,4,6,7], dtype = np.float64)       #set data type\n",
    "np0Array = np.zeros((3,4))                               #double zeros of shape\n",
    "np1Array = np.ones((3,4))                                #double ones of shape\n",
    "npRange = np.arange(1,5)                                 #array of 1,2,3,4\n",
    "npStepR = np.arange(1,5,2)                               #arange but every 2nd num\n",
    "npLin = np.arange(1,5,10)                                #10 even spaced num 1-5"
   ]
  },
  {
   "cell_type": "markdown",
   "id": "e7b1beab",
   "metadata": {},
   "source": [
    "# Properties"
   ]
  },
  {
   "cell_type": "code",
   "execution_count": null,
   "id": "f4146528",
   "metadata": {},
   "outputs": [],
   "source": [
    "npArray.ndim                                             #diminsionality\n",
    "npArray.itemsize                                         #byte size of each element\n",
    "npArray.dtype                                            #data type of element\n",
    "npArray.size                                             #number of elements\n",
    "npArray.shape                                            #number of rows and columns"
   ]
  },
  {
   "cell_type": "markdown",
   "id": "0a429c65",
   "metadata": {},
   "source": [
    "# Basic Functions"
   ]
  },
  {
   "cell_type": "code",
   "execution_count": 28,
   "id": "ca324167",
   "metadata": {},
   "outputs": [
    {
     "data": {
      "text/plain": [
       "array([[2, 3],\n",
       "       [5, 6],\n",
       "       [8, 9]])"
      ]
     },
     "execution_count": 28,
     "metadata": {},
     "output_type": "execute_result"
    }
   ],
   "source": [
    "npArray[0]                                               #get a value\n",
    "npArray[0:2]                                             #returns elements 0 and 1\n",
    "npArray[-1]                                              #returns last element\n",
    "np2Array[1,2]                                            #element at row 1 column 2\n",
    "np2Array[0:2,2]                                          #e.. at rows 0 & 1 at col 2\n",
    "np2Array[-1,0:2]                                         #last row, cols 1 and 2\n",
    "np2Array[:,1:3]                                          #all at columns 1 and 2"
   ]
  },
  {
   "cell_type": "markdown",
   "id": "ed142a1e",
   "metadata": {},
   "source": [
    "# Mathmatics"
   ]
  },
  {
   "cell_type": "code",
   "execution_count": null,
   "id": "1e477d98",
   "metadata": {},
   "outputs": [],
   "source": [
    "npArray.min()\n",
    "npArray.max()\n",
    "npArray.sum()\n",
    "np2Array.sum(axis = 0)                                   #sum of columns seperately\n",
    "np2Array.sum(axis = 1)                                   #sum of rows\n",
    "np.sqrt(npArray)                                         #square root of each element\n",
    "np.std(npArray)                                          #standard deviation of array\n",
    "\n",
    "a = np.array([[1,2],[3,4]])\n",
    "b = np.array([[5,6],[7,8]])\n",
    "a+b                                                      #add a[0]+b[0] etc.\n",
    "a-b\n",
    "a*b\n",
    "a/b\n",
    "a.dot(b)                                                 #matrix product"
   ]
  },
  {
   "cell_type": "markdown",
   "id": "a3843c42",
   "metadata": {},
   "source": [
    "# Iterate"
   ]
  },
  {
   "cell_type": "code",
   "execution_count": 29,
   "id": "c3d284e5",
   "metadata": {},
   "outputs": [
    {
     "name": "stdout",
     "output_type": "stream",
     "text": [
      "C order:\n",
      "1\n",
      "2\n",
      "3\n",
      "4\n",
      "5\n",
      "6\n",
      "7\n",
      "8\n",
      "9\n",
      "Fortran:\n",
      "1\n",
      "4\n",
      "7\n",
      "2\n",
      "5\n",
      "8\n",
      "3\n",
      "6\n",
      "9\n",
      "Fortran with flags:\n",
      "[1 4 7]\n",
      "[2 5 8]\n",
      "[3 6 9]\n",
      "1 3\n",
      "2 23\n",
      "3 43\n",
      "4 63\n",
      "5 83\n",
      "6 103\n",
      "7 123\n",
      "8 143\n",
      "9 3\n",
      "10 23\n",
      "11 43\n",
      "12 63\n",
      "13 83\n",
      "14 103\n",
      "15 123\n",
      "16 143\n"
     ]
    }
   ],
   "source": [
    "for row in npArray:\n",
    "    #print(row)\n",
    "    pass\n",
    "    \n",
    "for cell in np2Array.flat:\n",
    "    #print(cell)\n",
    "    pass\n",
    "  \n",
    "print(\"C order:\")\n",
    "for x in np.nditer(np2Array,order='C'):                  #C order, row by row\n",
    "    print(x)\n",
    "print(\"Fortran:\")\n",
    "for x in np.nditer(np2Array, order='F'):                 #Fortran, col by col\n",
    "    print(x)\n",
    "print(\"Fortran with flags:\")\n",
    "for x in np.nditer(np2Array, order='F', flags=['external_loop']):\n",
    "    print(x)\n",
    "    \n",
    "for x in np.nditer(np2Array, op_flags=['readwrite']):    #squared each value \n",
    "    x[...]=x*x                                           #and modify original array\n",
    "    \n",
    "a = np.arange(1,17).reshape(2,8)\n",
    "b = np.arange(3,150,20).reshape(1,8)\n",
    "for x,y in np.nditer([a,b]):                             #must have same shape\n",
    "    print(x,y)                                           #or one D has to be 1"
   ]
  },
  {
   "cell_type": "markdown",
   "id": "c914eca2",
   "metadata": {},
   "source": [
    "# Reshaping"
   ]
  },
  {
   "cell_type": "code",
   "execution_count": null,
   "id": "8b2adf31",
   "metadata": {},
   "outputs": [],
   "source": [
    "np2Array.reshape(9,1)                                    #adjust rows and columns\n",
    "np2Array.ravel()                                         #flattens an array to 1D\n",
    "np2Array.flatten()                                       #ravel but Always returns copy\n",
    "\n",
    "a = np.array([[1,2],[3,4]])\n",
    "b = np.array([[5,6],[7,8]])\n",
    "\n",
    "np.vstack((a,b))                                         #like concat for columns\n",
    "np.hstack((a,b))                                         #and for rows\n",
    "np.hsplit(a,3)                                           #split into 3 equal array\n",
    "np.vsplit(a,2)                                           #and for rows"
   ]
  },
  {
   "cell_type": "markdown",
   "id": "f2a4b7b8",
   "metadata": {},
   "source": [
    "# Index With Boolean"
   ]
  },
  {
   "cell_type": "code",
   "execution_count": 11,
   "id": "44f0fbc4",
   "metadata": {},
   "outputs": [
    {
     "data": {
      "text/plain": [
       "array([ 5,  6,  7,  8,  9, 10, 11])"
      ]
     },
     "execution_count": 11,
     "metadata": {},
     "output_type": "execute_result"
    }
   ],
   "source": [
    "a = np.arange(12).reshape(3,4)\n",
    "b = a > 4                                                 #check if each elem is >4\n",
    "a[b]                                                      #return elem in a is b is True\n",
    "a[b] = -1                                                 #replace all elem > 4 with -1"
   ]
  },
  {
   "cell_type": "markdown",
   "id": "2ad9e7d6",
   "metadata": {},
   "source": [
    "# Special Considerations"
   ]
  },
  {
   "cell_type": "code",
   "execution_count": null,
   "id": "c2e60e01",
   "metadata": {},
   "outputs": [],
   "source": []
  },
  {
   "cell_type": "markdown",
   "id": "fd9bf587",
   "metadata": {},
   "source": [
    "[return to top](#Reference-Material-for-Working-with-NumPy)"
   ]
  },
  {
   "cell_type": "code",
   "execution_count": null,
   "id": "dcf970de",
   "metadata": {},
   "outputs": [],
   "source": []
  }
 ],
 "metadata": {
  "kernelspec": {
   "display_name": "Python 3 (ipykernel)",
   "language": "python",
   "name": "python3"
  },
  "language_info": {
   "codemirror_mode": {
    "name": "ipython",
    "version": 3
   },
   "file_extension": ".py",
   "mimetype": "text/x-python",
   "name": "python",
   "nbconvert_exporter": "python",
   "pygments_lexer": "ipython3",
   "version": "3.8.10"
  }
 },
 "nbformat": 4,
 "nbformat_minor": 5
}
